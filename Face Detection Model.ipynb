{
 "cells": [
  {
   "cell_type": "code",
   "execution_count": 2,
   "id": "fcedb15a",
   "metadata": {},
   "outputs": [],
   "source": [
    "import cv2\n",
    "import os\n",
    "import uuid\n",
    "import time\n"
   ]
  },
  {
   "cell_type": "code",
   "execution_count": 9,
   "id": "dd4e3f28",
   "metadata": {},
   "outputs": [],
   "source": [
    "IMAGES_PATH=os.path.join('data','images')\n",
    "number_images=30"
   ]
  },
  {
   "cell_type": "code",
   "execution_count": 10,
   "id": "d253ae9f",
   "metadata": {},
   "outputs": [
    {
     "name": "stdout",
     "output_type": "stream",
     "text": [
      "collecting image 0\n",
      "collecting image 1\n",
      "collecting image 2\n",
      "collecting image 3\n",
      "collecting image 4\n",
      "collecting image 5\n",
      "collecting image 6\n",
      "collecting image 7\n",
      "collecting image 8\n",
      "collecting image 9\n",
      "collecting image 10\n",
      "collecting image 11\n",
      "collecting image 12\n",
      "collecting image 13\n",
      "collecting image 14\n",
      "collecting image 15\n",
      "collecting image 16\n"
     ]
    }
   ],
   "source": [
    "cap=cv2.VideoCapture(0)\n",
    "for imgnum in range(number_images):\n",
    "    print('collecting image {}'.format(imgnum))\n",
    "    ret,frame= cap.read()\n",
    "    imgname=os.path.join(IMAGES_PATH,f'{str(uuid.uuid1())}.jpg')\n",
    "    cv2.imwrite(imgname,frame)\n",
    "    cv2.imshow('frame',frame)\n",
    "    time.sleep(1)\n",
    "    k=cv2.waitKey(1)\n",
    "    if k%256==27:\n",
    "        break\n",
    "cap.release()\n",
    "cv2.destroyAllWindows()"
   ]
  },
  {
   "cell_type": "code",
   "execution_count": 6,
   "id": "877b6b55",
   "metadata": {},
   "outputs": [
    {
     "name": "stderr",
     "output_type": "stream",
     "text": [
      "Warning: QT_DEVICE_PIXEL_RATIO is deprecated. Instead use:\n",
      "   QT_AUTO_SCREEN_SCALE_FACTOR to enable platform plugin controlled per-screen factors.\n",
      "   QT_SCREEN_SCALE_FACTORS to set per-screen DPI.\n",
      "   QT_SCALE_FACTOR to set the application global scale factor.\n"
     ]
    }
   ],
   "source": [
    "!labelme\n",
    "#to make labels for your images!!"
   ]
  },
  {
   "cell_type": "code",
   "execution_count": 3,
   "id": "98282b15",
   "metadata": {},
   "outputs": [],
   "source": [
    "import tensorflow as tf\n",
    "import json\n",
    "import numpy as np\n",
    "from matplotlib import pyplot as plt"
   ]
  },
  {
   "cell_type": "code",
   "execution_count": 12,
   "id": "7116a012",
   "metadata": {},
   "outputs": [],
   "source": [
    "gpus=tf.config.experimental.list_physical_devices('GPU')\n",
    "for gpu in gpus:\n",
    "    tf.config.experimental.set_memory_growth(gpu,True)\n",
    "#limit GPU memory growth"
   ]
  },
  {
   "cell_type": "code",
   "execution_count": 13,
   "id": "3ea1519f",
   "metadata": {},
   "outputs": [
    {
     "data": {
      "text/plain": [
       "[]"
      ]
     },
     "execution_count": 13,
     "metadata": {},
     "output_type": "execute_result"
    }
   ],
   "source": [
    "tf.config.list_physical_devices('GPU')"
   ]
  },
  {
   "cell_type": "code",
   "execution_count": 14,
   "id": "6f6f4a3b",
   "metadata": {},
   "outputs": [],
   "source": [
    "#load image into TF data pipeline\n",
    "images=tf.data.Dataset.list_files('data\\\\images\\\\*.jpg',shuffle=False)# *.jp bet barim aa kelshi .jpg\n",
    "#hon khedna kel l images men l data:images folder\n"
   ]
  },
  {
   "cell_type": "code",
   "execution_count": 4,
   "id": "dc67c6bc",
   "metadata": {},
   "outputs": [],
   "source": [
    "def load_image(x):\n",
    "    byte_img = tf.io.read_file(x)\n",
    "    img=tf.io.decode_jpeg(byte_img)\n",
    "    return img\n",
    "#hon to actually read the image"
   ]
  },
  {
   "cell_type": "code",
   "execution_count": 16,
   "id": "517c7a20",
   "metadata": {},
   "outputs": [],
   "source": [
    "images = images.map(load_image)\n"
   ]
  },
  {
   "cell_type": "code",
   "execution_count": null,
   "id": "ecdb657c",
   "metadata": {},
   "outputs": [],
   "source": [
    "image_generator=images.batch(4).as_numpy_iterator()"
   ]
  },
  {
   "cell_type": "code",
   "execution_count": null,
   "id": "35f47372",
   "metadata": {},
   "outputs": [],
   "source": [
    "plot_images=image_generator.next()"
   ]
  },
  {
   "cell_type": "code",
   "execution_count": null,
   "id": "6d816119",
   "metadata": {},
   "outputs": [],
   "source": [
    "fig,ax = plt.subplots(ncols=4,figsize=(20,20))\n",
    "for idx , image in enumerate(plot_images):\n",
    "    ax[idx].imshow(image)\n",
    "plt.show()"
   ]
  },
  {
   "cell_type": "code",
   "execution_count": 19,
   "id": "4b922ab7",
   "metadata": {},
   "outputs": [],
   "source": [
    "for folder in ['train','test','valid']:\n",
    "    for file in os.listdir(os.path.join('data',folder,'images')):\n",
    "        filename=file.split('.')[0]+'.json'\n",
    "        existing_filepath=os.path.join('data','labels',filename)\n",
    "        if os.path.exists(existing_filepath):\n",
    "            new_filepath=os.path.join('data',folder,'labels',filename)\n",
    "            os.replace(existing_filepath,new_filepath)\n",
    "#aam n7et l souwar l fiyun labels b kel folder fiyo l soura l asliye"
   ]
  },
  {
   "cell_type": "code",
   "execution_count": 5,
   "id": "b0cbe3d5",
   "metadata": {},
   "outputs": [],
   "source": [
    "import albumentations as alb\n",
    "#data augmentation ta ysir eena more data"
   ]
  },
  {
   "cell_type": "code",
   "execution_count": 6,
   "id": "1aefe225",
   "metadata": {},
   "outputs": [],
   "source": [
    "augmentor = alb.Compose([alb.RandomCrop(width=450, height=450), \n",
    "                         alb.HorizontalFlip(p=0.5), \n",
    "                         alb.RandomBrightnessContrast(p=0.2),\n",
    "                         alb.RandomGamma(p=0.2), \n",
    "                         alb.RGBShift(p=0.2), \n",
    "                         alb.VerticalFlip(p=0.5)], \n",
    "                       bbox_params=alb.BboxParams(format='albumentations', \n",
    "                                                  label_fields=['class_labels']))"
   ]
  },
  {
   "cell_type": "code",
   "execution_count": 7,
   "id": "c71b65b0",
   "metadata": {},
   "outputs": [],
   "source": [
    "img = cv2.imread(os.path.join('data','train', 'images','250880f8-bf49-11ed-b683-342eb7af0360.jpg'))"
   ]
  },
  {
   "cell_type": "code",
   "execution_count": 8,
   "id": "d9cb6b9c",
   "metadata": {},
   "outputs": [
    {
     "data": {
      "text/plain": [
       "(480, 640, 3)"
      ]
     },
     "execution_count": 8,
     "metadata": {},
     "output_type": "execute_result"
    }
   ],
   "source": [
    "img.shape"
   ]
  },
  {
   "cell_type": "code",
   "execution_count": 45,
   "id": "bd9117ea",
   "metadata": {},
   "outputs": [],
   "source": [
    "with open(os.path.join('data', 'train', 'labels', '250880f8-bf49-11ed-b683-342eb7af0360.json'), 'r') as f:\n",
    "    label = json.load(f)"
   ]
  },
  {
   "cell_type": "code",
   "execution_count": 46,
   "id": "495fd7f3",
   "metadata": {},
   "outputs": [
    {
     "data": {
      "text/plain": [
       "{'version': '5.1.1',\n",
       " 'flags': {},\n",
       " 'shapes': [{'label': 'face',\n",
       "   'points': [[196.82926829268294, 11.95121951219511],\n",
       "    [501.7073170731707, 399.75609756097555]],\n",
       "   'group_id': None,\n",
       "   'shape_type': 'rectangle',\n",
       "   'flags': {}}],\n",
       " 'imagePath': '..\\\\images\\\\250880f8-bf49-11ed-b683-342eb7af0360.jpg',\n",
       " 'imageData': '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',\n",
       " 'imageHeight': 480,\n",
       " 'imageWidth': 640}"
      ]
     },
     "execution_count": 46,
     "metadata": {},
     "output_type": "execute_result"
    }
   ],
   "source": [
    "label"
   ]
  },
  {
   "cell_type": "code",
   "execution_count": 11,
   "id": "5c13f70b",
   "metadata": {},
   "outputs": [],
   "source": [
    "coords = [0,0,0,0]\n",
    "coords[0] = label['shapes'][0]['points'][0][0]\n",
    "coords[1] = label['shapes'][0]['points'][0][1]\n",
    "coords[2] = label['shapes'][0]['points'][1][0]\n",
    "coords[3] = label['shapes'][0]['points'][1][1]\n",
    "#4.3 Extract Coordinates and Rescale to Match Image Resolution\n",
    "#hon aaam nekhud l coord tabaa l image 0 w nheta b array jdid (x1,x2,y1,y2)\n",
    "coords = list(np.divide(coords, [640,480,640,480]))"
   ]
  },
  {
   "cell_type": "code",
   "execution_count": 12,
   "id": "70616495",
   "metadata": {},
   "outputs": [
    {
     "data": {
      "text/plain": [
       "<matplotlib.image.AxesImage at 0x15b2c1a1070>"
      ]
     },
     "execution_count": 12,
     "metadata": {},
     "output_type": "execute_result"
    },
    {
     "data": {
      "image/png": "[encoded data removed]",
      "text/plain": [
       "<Figure size 640x480 with 1 Axes>"
      ]
     },
     "metadata": {},
     "output_type": "display_data"
    }
   ],
   "source": [
    "#4.4 Apply Augmentations and View Results\n",
    "augmented = augmentor(image=img, bboxes=[coords], class_labels=['face'])\n",
    "cv2.rectangle(augmented['image'], \n",
    "              tuple(np.multiply(augmented['bboxes'][0][:2], [450,450]).astype(int)),\n",
    "              tuple(np.multiply(augmented['bboxes'][0][2:], [450,450]).astype(int)), \n",
    "                    (255,0,0), 2)\n",
    "\n",
    "plt.imshow(augmented['image'])"
   ]
  },
  {
   "cell_type": "code",
   "execution_count": 13,
   "id": "7bcce8ea",
   "metadata": {},
   "outputs": [
    {
     "ename": "KeyboardInterrupt",
     "evalue": "",
     "output_type": "error",
     "traceback": [
      "\u001b[1;31m---------------------------------------------------------------------------\u001b[0m",
      "\u001b[1;31mKeyboardInterrupt\u001b[0m                         Traceback (most recent call last)",
      "Cell \u001b[1;32mIn[13], line 23\u001b[0m\n\u001b[0;32m     21\u001b[0m \u001b[38;5;28;01mfor\u001b[39;00m x \u001b[38;5;129;01min\u001b[39;00m \u001b[38;5;28mrange\u001b[39m(\u001b[38;5;241m60\u001b[39m):\n\u001b[0;32m     22\u001b[0m     augmented \u001b[38;5;241m=\u001b[39m augmentor(image\u001b[38;5;241m=\u001b[39mimg, bboxes\u001b[38;5;241m=\u001b[39m[coords], class_labels\u001b[38;5;241m=\u001b[39m[\u001b[38;5;124m'\u001b[39m\u001b[38;5;124mface\u001b[39m\u001b[38;5;124m'\u001b[39m])\n\u001b[1;32m---> 23\u001b[0m     \u001b[43mcv2\u001b[49m\u001b[38;5;241;43m.\u001b[39;49m\u001b[43mimwrite\u001b[49m\u001b[43m(\u001b[49m\u001b[43mos\u001b[49m\u001b[38;5;241;43m.\u001b[39;49m\u001b[43mpath\u001b[49m\u001b[38;5;241;43m.\u001b[39;49m\u001b[43mjoin\u001b[49m\u001b[43m(\u001b[49m\u001b[38;5;124;43m'\u001b[39;49m\u001b[38;5;124;43maug_data\u001b[39;49m\u001b[38;5;124;43m'\u001b[39;49m\u001b[43m,\u001b[49m\u001b[43m \u001b[49m\u001b[43mpartition\u001b[49m\u001b[43m,\u001b[49m\u001b[43m \u001b[49m\u001b[38;5;124;43m'\u001b[39;49m\u001b[38;5;124;43mimages\u001b[39;49m\u001b[38;5;124;43m'\u001b[39;49m\u001b[43m,\u001b[49m\u001b[43m \u001b[49m\u001b[38;5;124;43mf\u001b[39;49m\u001b[38;5;124;43m'\u001b[39;49m\u001b[38;5;132;43;01m{\u001b[39;49;00m\u001b[43mimage\u001b[49m\u001b[38;5;241;43m.\u001b[39;49m\u001b[43msplit\u001b[49m\u001b[43m(\u001b[49m\u001b[38;5;124;43m\"\u001b[39;49m\u001b[38;5;124;43m.\u001b[39;49m\u001b[38;5;124;43m\"\u001b[39;49m\u001b[43m)\u001b[49m\u001b[43m[\u001b[49m\u001b[38;5;241;43m0\u001b[39;49m\u001b[43m]\u001b[49m\u001b[38;5;132;43;01m}\u001b[39;49;00m\u001b[38;5;124;43m.\u001b[39;49m\u001b[38;5;132;43;01m{\u001b[39;49;00m\u001b[43mx\u001b[49m\u001b[38;5;132;43;01m}\u001b[39;49;00m\u001b[38;5;124;43m.jpg\u001b[39;49m\u001b[38;5;124;43m'\u001b[39;49m\u001b[43m)\u001b[49m\u001b[43m,\u001b[49m\u001b[43m \u001b[49m\u001b[43maugmented\u001b[49m\u001b[43m[\u001b[49m\u001b[38;5;124;43m'\u001b[39;49m\u001b[38;5;124;43mimage\u001b[39;49m\u001b[38;5;124;43m'\u001b[39;49m\u001b[43m]\u001b[49m\u001b[43m)\u001b[49m\n\u001b[0;32m     25\u001b[0m     annotation \u001b[38;5;241m=\u001b[39m {}\n\u001b[0;32m     26\u001b[0m     annotation[\u001b[38;5;124m'\u001b[39m\u001b[38;5;124mimage\u001b[39m\u001b[38;5;124m'\u001b[39m] \u001b[38;5;241m=\u001b[39m image\n",
      "\u001b[1;31mKeyboardInterrupt\u001b[0m: "
     ]
    }
   ],
   "source": [
    "#5. Build and Run Augmentation Pipeline\n",
    "#5.1 Run Augmentation Pipeline\n",
    "#hon aam naaml l augmentation aa kel l souwar b train valid test\n",
    "for partition in ['train','test','valid']: \n",
    "    for image in os.listdir(os.path.join('data', partition, 'images')):\n",
    "        img = cv2.imread(os.path.join('data', partition, 'images', image))\n",
    "\n",
    "        coords = [0,0,0.00001,0.00001]\n",
    "        label_path = os.path.join('data', partition, 'labels', f'{image.split(\".\")[0]}.json')\n",
    "        if os.path.exists(label_path):\n",
    "            with open(label_path, 'r') as f:\n",
    "                label = json.load(f)\n",
    "\n",
    "            coords[0] = label['shapes'][0]['points'][0][0]\n",
    "            coords[1] = label['shapes'][0]['points'][0][1]\n",
    "            coords[2] = label['shapes'][0]['points'][1][0]\n",
    "            coords[3] = label['shapes'][0]['points'][1][1]\n",
    "            coords = list(np.divide(coords, [640,480,640,480]))\n",
    "\n",
    "        try: \n",
    "            for x in range(60):\n",
    "                augmented = augmentor(image=img, bboxes=[coords], class_labels=['face'])\n",
    "                cv2.imwrite(os.path.join('aug_data', partition, 'images', f'{image.split(\".\")[0]}.{x}.jpg'), augmented['image'])\n",
    "\n",
    "                annotation = {}\n",
    "                annotation['image'] = image\n",
    "\n",
    "                if os.path.exists(label_path):\n",
    "                    if len(augmented['bboxes']) == 0: \n",
    "                        annotation['bbox'] = [0,0,0,0]\n",
    "                        annotation['class'] = 0 \n",
    "                    else: \n",
    "                        annotation['bbox'] = augmented['bboxes'][0]\n",
    "                        annotation['class'] = 1\n",
    "                else: \n",
    "                    annotation['bbox'] = [0,0,0,0]\n",
    "                    annotation['class'] = 0 \n",
    "\n",
    "\n",
    "                with open(os.path.join('aug_data', partition, 'labels', f'{image.split(\".\")[0]}.{x}.json'), 'w') as f:\n",
    "                    json.dump(annotation, f)\n",
    "\n",
    "        except Exception as e:\n",
    "            print(e)"
   ]
  },
  {
   "cell_type": "code",
   "execution_count": null,
   "id": "707df5bf",
   "metadata": {},
   "outputs": [],
   "source": [
    "#5.2 Load Augmented Images to Tensorflow Dataset"
   ]
  },
  {
   "cell_type": "code",
   "execution_count": 5,
   "id": "f685583b",
   "metadata": {},
   "outputs": [],
   "source": [
    "train_images = tf.data.Dataset.list_files('aug_data\\\\train\\\\images\\\\*.jpg', shuffle=False)#hon aam nekhud l images men kl folder\n",
    "train_images = train_images.map(load_image)#hon we are actually loading the image\n",
    "train_images = train_images.map(lambda x: tf.image.resize(x, (120,120)))#hon we are compressing the images\n",
    "train_images = train_images.map(lambda x: x/255)"
   ]
  },
  {
   "cell_type": "code",
   "execution_count": 6,
   "id": "6440f9db",
   "metadata": {},
   "outputs": [],
   "source": [
    "test_images = tf.data.Dataset.list_files('aug_data\\\\test\\\\images\\\\*.jpg', shuffle=False)\n",
    "test_images = test_images.map(load_image)\n",
    "test_images = test_images.map(lambda x: tf.image.resize(x, (120,120)))\n",
    "test_images = test_images.map(lambda x: x/255)"
   ]
  },
  {
   "cell_type": "code",
   "execution_count": 7,
   "id": "72bd4b0d",
   "metadata": {},
   "outputs": [],
   "source": [
    "val_images = tf.data.Dataset.list_files('aug_data\\\\valid\\\\images\\\\*.jpg', shuffle=False)\n",
    "val_images = val_images.map(load_image)\n",
    "val_images = val_images.map(lambda x: tf.image.resize(x, (120,120)))\n",
    "val_images = val_images.map(lambda x: x/255)"
   ]
  },
  {
   "cell_type": "code",
   "execution_count": 35,
   "id": "e0f63173",
   "metadata": {},
   "outputs": [],
   "source": [
    "#6. Prepare Labels\n",
    "#6.1 Build Label Loading Function"
   ]
  },
  {
   "cell_type": "code",
   "execution_count": 12,
   "id": "1be3f69a",
   "metadata": {},
   "outputs": [],
   "source": [
    "def load_labels(label_path):\n",
    "    with open(label_path.numpy(), 'r', encoding = \"utf-8\") as f:\n",
    "        label = json.load(f)\n",
    "        \n",
    "    return [label['class']], label['bbox']\n"
   ]
  },
  {
   "cell_type": "code",
   "execution_count": 13,
   "id": "f1dffe9b",
   "metadata": {},
   "outputs": [
    {
     "data": {
      "text/plain": [
       "b'aug_data\\\\train\\\\labels\\\\250880f8-bf49-11ed-b683-342eb7af0360.0.json'"
      ]
     },
     "execution_count": 13,
     "metadata": {},
     "output_type": "execute_result"
    }
   ],
   "source": [
    "train_labels = tf.data.Dataset.list_files('aug_data\\\\train\\\\labels\\\\*.json', shuffle=False)\n",
    "train_labels.as_numpy_iterator().next()"
   ]
  },
  {
   "cell_type": "code",
   "execution_count": 14,
   "id": "0c42f012",
   "metadata": {},
   "outputs": [
    {
     "data": {
      "text/plain": [
       "(array([1], dtype=uint8), array([0.   , 0.145, 0.654, 1.   ], dtype=float16))"
      ]
     },
     "execution_count": 14,
     "metadata": {},
     "output_type": "execute_result"
    }
   ],
   "source": [
    "#6.2 Load Labels to Tensorflow Dataset\n",
    "train_labels = tf.data.Dataset.list_files('aug_data\\\\train\\\\labels\\\\*.json', shuffle=False)\n",
    "train_labels = train_labels.map(lambda x: tf.py_function(load_labels, [x], [tf.uint8,tf.float16])) \n",
    "train_labels.as_numpy_iterator().next()"
   ]
  },
  {
   "cell_type": "code",
   "execution_count": 15,
   "id": "6040ecf7",
   "metadata": {},
   "outputs": [],
   "source": [
    "test_labels = tf.data.Dataset.list_files('aug_data\\\\test\\\\labels\\\\*.json', shuffle=False)\n",
    "test_labels = test_labels.map(lambda x: tf.py_function(load_labels, [x], [tf.uint8, tf.float16]))"
   ]
  },
  {
   "cell_type": "code",
   "execution_count": 16,
   "id": "b7071f41",
   "metadata": {},
   "outputs": [],
   "source": [
    "\n",
    "val_labels = tf.data.Dataset.list_files('aug_data\\\\valid\\\\labels\\\\*.json', shuffle=False)\n",
    "val_labels = val_labels.map(lambda x: tf.py_function(load_labels, [x], [tf.uint8, tf.float16]))\n"
   ]
  },
  {
   "cell_type": "code",
   "execution_count": 17,
   "id": "d59653a4",
   "metadata": {},
   "outputs": [
    {
     "data": {
      "text/plain": [
       "(3780, 3780, 840, 840, 780, 780)"
      ]
     },
     "execution_count": 17,
     "metadata": {},
     "output_type": "execute_result"
    }
   ],
   "source": [
    "#7. Combine Label and Image Samples\n",
    "#7.1 Check Partition Lengths\n",
    "len(train_images), len(train_labels), len(test_images), len(test_labels), len(val_images), len(val_labels)"
   ]
  },
  {
   "cell_type": "code",
   "execution_count": 18,
   "id": "f464427c",
   "metadata": {},
   "outputs": [],
   "source": [
    "#7.2 Create Final Datasets (Images/Labels)\n",
    "train = tf.data.Dataset.zip((train_images, train_labels))\n",
    "train = train.shuffle(5000)\n",
    "train = train.batch(8)\n",
    "train = train.prefetch(4)"
   ]
  },
  {
   "cell_type": "code",
   "execution_count": 19,
   "id": "025782da",
   "metadata": {},
   "outputs": [],
   "source": [
    "test = tf.data.Dataset.zip((test_images, test_labels))\n",
    "test = test.shuffle(1300)\n",
    "test = test.batch(8)\n",
    "test = test.prefetch(4)"
   ]
  },
  {
   "cell_type": "code",
   "execution_count": 20,
   "id": "c077d829",
   "metadata": {},
   "outputs": [],
   "source": [
    "val = tf.data.Dataset.zip((val_images, val_labels))\n",
    "val = val.shuffle(1000)\n",
    "val = val.batch(8)\n",
    "val = val.prefetch(4)"
   ]
  },
  {
   "cell_type": "code",
   "execution_count": 21,
   "id": "ab16497a",
   "metadata": {},
   "outputs": [
    {
     "data": {
      "text/plain": [
       "array([[[[0.43890932, 0.4507353 , 0.4011642 ],\n",
       "         [0.4034314 , 0.41060048, 0.35735294],\n",
       "         [0.42530638, 0.42775735, 0.37579656],\n",
       "         ...,\n",
       "         [0.26893383, 0.26795343, 0.28609067],\n",
       "         [0.2502451 , 0.25042892, 0.2855392 ],\n",
       "         [0.23431373, 0.25490198, 0.30778188]],\n",
       "\n",
       "        [[0.6918505 , 0.70104164, 0.6723039 ],\n",
       "         [0.43008578, 0.4336397 , 0.40122548],\n",
       "         [0.4204044 , 0.4204044 , 0.38118872],\n",
       "         ...,\n",
       "         [0.25484067, 0.25876224, 0.2726103 ],\n",
       "         [0.25300246, 0.27120098, 0.29381126],\n",
       "         [0.25128677, 0.26488972, 0.3163603 ]],\n",
       "\n",
       "        [[0.6813725 , 0.7004902 , 0.6627451 ],\n",
       "         [0.6645833 , 0.67585784, 0.6327206 ],\n",
       "         [0.39859068, 0.40643382, 0.35545343],\n",
       "         ...,\n",
       "         [0.23780638, 0.23400736, 0.2579044 ],\n",
       "         [0.2557598 , 0.2557598 , 0.29485294],\n",
       "         [0.4751838 , 0.47677696, 0.47775736]],\n",
       "\n",
       "        ...,\n",
       "\n",
       "        [[0.88480395, 0.9352941 , 0.9485294 ],\n",
       "         [0.88529414, 0.9284314 , 0.94411767],\n",
       "         [0.87536764, 0.9185049 , 0.93419117],\n",
       "         ...,\n",
       "         [0.99650735, 0.99650735, 0.99650735],\n",
       "         [0.99650735, 0.99650735, 0.99650735],\n",
       "         [0.9906863 , 0.99852943, 0.99460787]],\n",
       "\n",
       "        [[0.88596815, 0.93713236, 0.9601103 ],\n",
       "         [0.8824142 , 0.9358456 , 0.9481005 ],\n",
       "         [0.876348  , 0.9194853 , 0.9273284 ],\n",
       "         ...,\n",
       "         [0.9995098 , 0.9995098 , 0.9995098 ],\n",
       "         [0.99558824, 0.99558824, 0.99558824],\n",
       "         [0.9934436 , 1.        , 0.9973652 ]],\n",
       "\n",
       "        [[0.8911152 , 0.9454657 , 0.9558211 ],\n",
       "         [0.88670343, 0.9406863 , 0.9478554 ],\n",
       "         [0.88039213, 0.9259804 , 0.9289216 ],\n",
       "         ...,\n",
       "         [0.99607843, 0.99852943, 0.99852943],\n",
       "         [0.9939338 , 0.99852943, 0.9963848 ],\n",
       "         [0.99215686, 0.9988971 , 0.9936887 ]]],\n",
       "\n",
       "\n",
       "       [[[0.06329657, 0.02702206, 0.01917892],\n",
       "         [0.13743873, 0.10655637, 0.11721814],\n",
       "         [0.22941177, 0.2240196 , 0.21764706],\n",
       "         ...,\n",
       "         [0.03363971, 0.04932598, 0.09209559],\n",
       "         [0.02469363, 0.0403799 , 0.08057598],\n",
       "         [0.00202206, 0.02015931, 0.06574755]],\n",
       "\n",
       "        [[0.05343137, 0.0377451 , 0.03676471],\n",
       "         [0.12058824, 0.10245098, 0.11764706],\n",
       "         [0.23572303, 0.23572303, 0.22886029],\n",
       "         ...,\n",
       "         [0.03817402, 0.0538603 , 0.08915441],\n",
       "         [0.02346814, 0.03958333, 0.07359069],\n",
       "         [0.01127451, 0.02696078, 0.06715687]],\n",
       "\n",
       "        [[0.02420343, 0.00281863, 0.01145833],\n",
       "         [0.09166667, 0.06905637, 0.08474265],\n",
       "         [0.2283701 , 0.22352941, 0.21629901],\n",
       "         ...,\n",
       "         [0.04160539, 0.05729167, 0.10343137],\n",
       "         [0.03866421, 0.04650735, 0.09356618],\n",
       "         [0.01531863, 0.02806373, 0.07267157]],\n",
       "\n",
       "        ...,\n",
       "\n",
       "        [[0.50980395, 0.5372549 , 0.5058824 ],\n",
       "         [0.50980395, 0.5372549 , 0.5058824 ],\n",
       "         [0.502451  , 0.529902  , 0.4985294 ],\n",
       "         ...,\n",
       "         [0.8137255 , 0.8670956 , 0.86531866],\n",
       "         [0.8362745 , 0.86966914, 0.8598039 ],\n",
       "         [0.8519608 , 0.8692402 , 0.8634191 ]],\n",
       "\n",
       "        [[0.50980395, 0.5372549 , 0.5058824 ],\n",
       "         [0.5063113 , 0.5341912 , 0.50153184],\n",
       "         [0.4990196 , 0.5264706 , 0.49509802],\n",
       "         ...,\n",
       "         [0.85784316, 0.8666667 , 0.85588235],\n",
       "         [0.85968137, 0.8666667 , 0.85631126],\n",
       "         [0.85520834, 0.8630515 , 0.8463848 ]],\n",
       "\n",
       "        [[0.5033701 , 0.53817403, 0.5043505 ],\n",
       "         [0.50753677, 0.53517157, 0.50324756],\n",
       "         [0.5009804 , 0.529902  , 0.49411765],\n",
       "         ...,\n",
       "         [0.84914213, 0.8630515 , 0.85471815],\n",
       "         [0.83186275, 0.8629289 , 0.8485294 ],\n",
       "         [0.8300245 , 0.8686887 , 0.8579657 ]]],\n",
       "\n",
       "\n",
       "       [[[0.7691789 , 0.82800245, 0.85545343],\n",
       "         [0.7586397 , 0.82665443, 0.8490196 ],\n",
       "         [0.76029414, 0.81482846, 0.8414828 ],\n",
       "         ...,\n",
       "         [0.26482844, 0.27677697, 0.321875  ],\n",
       "         [0.2514706 , 0.27156863, 0.30894607],\n",
       "         [0.24748774, 0.2617647 , 0.30294117]],\n",
       "\n",
       "        [[0.77591914, 0.8409926 , 0.8826593 ],\n",
       "         [0.7886642 , 0.8244485 , 0.86023283],\n",
       "         [0.7660539 , 0.8240196 , 0.84503675],\n",
       "         ...,\n",
       "         [0.23474264, 0.2651348 , 0.30876225],\n",
       "         [0.22352941, 0.25392157, 0.297549  ],\n",
       "         [0.2158701 , 0.25061274, 0.28645834]],\n",
       "\n",
       "        [[0.80631125, 0.8729779 , 0.93572307],\n",
       "         [0.76305145, 0.84607846, 0.8969976 ],\n",
       "         [0.7836397 , 0.8393995 , 0.88253677],\n",
       "         ...,\n",
       "         [0.2495098 , 0.26519608, 0.30833334],\n",
       "         [0.25441176, 0.27009803, 0.31715685],\n",
       "         [0.24411765, 0.25980392, 0.30441177]],\n",
       "\n",
       "        ...,\n",
       "\n",
       "        [[1.        , 1.        , 1.        ],\n",
       "         [1.        , 1.        , 1.        ],\n",
       "         [1.        , 1.        , 1.        ],\n",
       "         ...,\n",
       "         [0.13382353, 0.14558823, 0.17303921],\n",
       "         [0.14901961, 0.16078432, 0.1882353 ],\n",
       "         [0.16488971, 0.17175245, 0.19105393]],\n",
       "\n",
       "        [[1.        , 1.        , 1.        ],\n",
       "         [1.        , 1.        , 1.        ],\n",
       "         [1.        , 1.        , 1.        ],\n",
       "         ...,\n",
       "         [0.1264093 , 0.1264093 , 0.15778187],\n",
       "         [0.15349264, 0.15796569, 0.17898284],\n",
       "         [0.16495098, 0.16924019, 0.18854167]],\n",
       "\n",
       "        [[1.        , 1.        , 1.        ],\n",
       "         [1.        , 1.        , 1.        ],\n",
       "         [1.        , 1.        , 1.        ],\n",
       "         ...,\n",
       "         [0.12665442, 0.12518382, 0.15655637],\n",
       "         [0.14019608, 0.13627452, 0.16470589],\n",
       "         [0.11875   , 0.11176471, 0.14172794]]],\n",
       "\n",
       "\n",
       "       ...,\n",
       "\n",
       "\n",
       "       [[[0.75686276, 0.81960785, 0.82052696],\n",
       "         [0.75686276, 0.82254905, 0.82254905],\n",
       "         [0.7642157 , 0.82990193, 0.82990193],\n",
       "         ...,\n",
       "         [0.81286764, 0.8167892 , 0.7609069 ],\n",
       "         [0.8245711 , 0.8194853 , 0.75594366],\n",
       "         [0.8360294 , 0.83302695, 0.7651961 ]],\n",
       "\n",
       "        [[0.74871325, 0.8193015 , 0.8271446 ],\n",
       "         [0.7533701 , 0.82395834, 0.8318015 ],\n",
       "         [0.75735295, 0.8264706 , 0.83480394],\n",
       "         ...,\n",
       "         [0.6471814 , 0.65067405, 0.5957721 ],\n",
       "         [0.80606616, 0.8030025 , 0.7324142 ],\n",
       "         [0.82218134, 0.82254905, 0.7490196 ]],\n",
       "\n",
       "        [[0.752451  , 0.8112745 , 0.82303923],\n",
       "         [0.75735295, 0.8126838 , 0.8244485 ],\n",
       "         [0.7612745 , 0.8161765 , 0.8279412 ],\n",
       "         ...,\n",
       "         [0.33976716, 0.3367647 , 0.31427696],\n",
       "         [0.7231005 , 0.71525735, 0.66384804],\n",
       "         [0.8360907 , 0.824326  , 0.7547181 ]],\n",
       "\n",
       "        ...,\n",
       "\n",
       "        [[0.92941177, 1.        , 0.99607843],\n",
       "         [0.92941177, 1.        , 0.99607843],\n",
       "         [0.92941177, 1.        , 0.99607843],\n",
       "         ...,\n",
       "         [0.15827206, 0.18572304, 0.29552695],\n",
       "         [0.15692402, 0.184375  , 0.29761028],\n",
       "         [0.16127451, 0.18872549, 0.30245098]],\n",
       "\n",
       "        [[0.9220588 , 1.        , 0.99264705],\n",
       "         [0.9220588 , 1.        , 0.99264705],\n",
       "         [0.9259804 , 1.        , 0.99607843],\n",
       "         ...,\n",
       "         [0.16029412, 0.1877451 , 0.297549  ],\n",
       "         [0.14558823, 0.17303921, 0.2867647 ],\n",
       "         [0.14699756, 0.17843138, 0.29307598]],\n",
       "\n",
       "        [[0.9170956 , 0.99846816, 0.99307597],\n",
       "         [0.92009807, 0.99852943, 0.99460787],\n",
       "         [0.92401963, 1.        , 0.99852943],\n",
       "         ...,\n",
       "         [0.15196079, 0.17941177, 0.28431374],\n",
       "         [0.15079656, 0.17824756, 0.2887255 ],\n",
       "         [0.14761029, 0.17892157, 0.28835785]]],\n",
       "\n",
       "\n",
       "       [[[0.14356618, 0.14117648, 0.13333334],\n",
       "         [0.13498774, 0.13106617, 0.12322304],\n",
       "         [0.13578431, 0.1245098 , 0.11617647],\n",
       "         ...,\n",
       "         [0.7852941 , 0.8519608 , 0.78431374],\n",
       "         [0.7885417 , 0.84344363, 0.7846201 ],\n",
       "         [0.77438724, 0.827451  , 0.76954657]],\n",
       "\n",
       "        [[0.14332108, 0.13939951, 0.12371323],\n",
       "         [0.12297794, 0.11905637, 0.1033701 ],\n",
       "         [0.13290441, 0.12898284, 0.12113971],\n",
       "         ...,\n",
       "         [0.78572303, 0.8489583 , 0.79650736],\n",
       "         [0.7886642 , 0.8435662 , 0.7916054 ],\n",
       "         [0.7787377 , 0.83118874, 0.7674632 ]],\n",
       "\n",
       "        [[0.13707107, 0.12138481, 0.1096201 ],\n",
       "         [0.13725491, 0.13333334, 0.11862745],\n",
       "         [0.14025736, 0.13633579, 0.12849265],\n",
       "         ...,\n",
       "         [0.78768384, 0.8465074 , 0.7719976 ],\n",
       "         [0.7759804 , 0.834375  , 0.76072305],\n",
       "         [0.7778186 , 0.83664215, 0.75784314]],\n",
       "\n",
       "        ...,\n",
       "\n",
       "        [[0.952451  , 1.        , 0.9367647 ],\n",
       "         [0.9490196 , 1.        , 0.93333334],\n",
       "         [0.9529412 , 1.        , 0.9372549 ],\n",
       "         ...,\n",
       "         [0.48854166, 0.61813724, 0.8190564 ],\n",
       "         [0.5358456 , 0.6778799 , 0.91905636],\n",
       "         [0.54148287, 0.7101716 , 0.9614583 ]],\n",
       "\n",
       "        [[0.9490196 , 1.        , 0.93333334],\n",
       "         [0.9490196 , 1.        , 0.93333334],\n",
       "         [0.9529412 , 1.        , 0.9372549 ],\n",
       "         ...,\n",
       "         [0.4730392 , 0.6102941 , 0.82303923],\n",
       "         [0.52794117, 0.67745095, 0.9191176 ],\n",
       "         [0.5539216 , 0.7264706 , 0.9735294 ]],\n",
       "\n",
       "        [[0.95931375, 1.        , 0.9427696 ],\n",
       "         [0.9553922 , 0.99852943, 0.93578434],\n",
       "         [0.9565564 , 0.99969363, 0.93694854],\n",
       "         ...,\n",
       "         [0.4622549 , 0.6       , 0.8280637 ],\n",
       "         [0.51960784, 0.6764706 , 0.9153186 ],\n",
       "         [0.5563725 , 0.7298407 , 0.9768995 ]]],\n",
       "\n",
       "\n",
       "       [[[0.14901961, 0.18039216, 0.2560049 ],\n",
       "         [0.12745099, 0.17058824, 0.24803922],\n",
       "         [0.12352941, 0.15490197, 0.22941177],\n",
       "         ...,\n",
       "         [0.5764706 , 0.6313726 , 0.6745098 ],\n",
       "         [0.56697303, 0.62830883, 0.66207105],\n",
       "         [0.5765319 , 0.6333946 , 0.66476715]],\n",
       "\n",
       "        [[0.14068627, 0.17205882, 0.25539216],\n",
       "         [0.1264706 , 0.16813725, 0.24693628],\n",
       "         [0.12941177, 0.16421568, 0.23186274],\n",
       "         ...,\n",
       "         [0.57254905, 0.6279412 , 0.6622549 ],\n",
       "         [0.57297796, 0.6278799 , 0.66317403],\n",
       "         [0.5745098 , 0.6269608 , 0.6598039 ]],\n",
       "\n",
       "        [[0.14607844, 0.17254902, 0.2622549 ],\n",
       "         [0.12941177, 0.16078432, 0.23615196],\n",
       "         [0.11862745, 0.14607844, 0.21066177],\n",
       "         ...,\n",
       "         [0.5773897 , 0.6283701 , 0.65974265],\n",
       "         [0.57254905, 0.6279412 , 0.6622549 ],\n",
       "         [0.575     , 0.627451  , 0.6627451 ]],\n",
       "\n",
       "        ...,\n",
       "\n",
       "        [[0.49019608, 0.47843137, 0.44313726],\n",
       "         [0.49754903, 0.48578432, 0.4504902 ],\n",
       "         [0.49754903, 0.48578432, 0.4504902 ],\n",
       "         ...,\n",
       "         [0.61917895, 0.6505515 , 0.5917279 ],\n",
       "         [0.6117647 , 0.6431373 , 0.58431375],\n",
       "         [0.6130515 , 0.65177697, 0.5983456 ]],\n",
       "\n",
       "        [[0.49558824, 0.48382354, 0.44852942],\n",
       "         [0.49019608, 0.47843137, 0.44313726],\n",
       "         [0.49068627, 0.47892156, 0.44362745],\n",
       "         ...,\n",
       "         [0.6156863 , 0.6401961 , 0.59166664],\n",
       "         [0.6156863 , 0.6401961 , 0.59865195],\n",
       "         [0.61335784, 0.64215684, 0.59932595]],\n",
       "\n",
       "        [[0.4901348 , 0.48572305, 0.44307598],\n",
       "         [0.4875613 , 0.4831495 , 0.44050246],\n",
       "         [0.48272058, 0.48645833, 0.43566176],\n",
       "         ...,\n",
       "         [0.6134191 , 0.6418505 , 0.59724265],\n",
       "         [0.6117647 , 0.6401961 , 0.5942402 ],\n",
       "         [0.61476713, 0.64074755, 0.6064338 ]]]], dtype=float32)"
      ]
     },
     "execution_count": 21,
     "metadata": {},
     "output_type": "execute_result"
    }
   ],
   "source": [
    "data_samples = train.as_numpy_iterator()\n",
    "res = data_samples.next()\n",
    "res[0]"
   ]
  },
  {
   "cell_type": "code",
   "execution_count": null,
   "id": "eb2c4bac",
   "metadata": {},
   "outputs": [
    {
     "name": "stderr",
     "output_type": "stream",
     "text": [
      "Clipping input data to the valid range for imshow with RGB data ([0..1] for floats or [0..255] for integers).\n",
      "Clipping input data to the valid range for imshow with RGB data ([0..1] for floats or [0..255] for integers).\n",
      "Clipping input data to the valid range for imshow with RGB data ([0..1] for floats or [0..255] for integers).\n",
      "Clipping input data to the valid range for imshow with RGB data ([0..1] for floats or [0..255] for integers).\n"
     ]
    }
   ],
   "source": [
    "#7.3 View Images and Annotations\n",
    "data_samples = train.as_numpy_iterator()\n",
    "res = data_samples.next()\n",
    "fig, ax = plt.subplots(ncols=4, figsize=(20,20))\n",
    "for idx in range(4): \n",
    "    sample_image = res[0][idx]\n",
    "    sample_coords = res[1][1][idx]\n",
    "    \n",
    "    cv2.rectangle(sample_image, \n",
    "                  tuple(np.multiply(sample_coords[:2], [120,120]).astype(int)),\n",
    "                  tuple(np.multiply(sample_coords[2:], [120,120]).astype(int)), \n",
    "                        (255,0,0), 2)\n",
    "\n",
    "    ax[idx].imshow(sample_image)"
   ]
  },
  {
   "cell_type": "code",
   "execution_count": 22,
   "id": "99e468e5",
   "metadata": {},
   "outputs": [],
   "source": [
    "#8. Build Deep Learning using the Functional API\n",
    "#8.1 Import Layers and Base Network\n",
    "from tensorflow.keras.models import Model\n",
    "from tensorflow.keras.layers import Input, Conv2D, Dense, GlobalMaxPooling2D\n",
    "from tensorflow.keras.applications import VGG16"
   ]
  },
  {
   "cell_type": "code",
   "execution_count": 23,
   "id": "7a6e6eb8",
   "metadata": {},
   "outputs": [],
   "source": [
    "#8.2 Download VGG16\n",
    "vgg = VGG16(include_top=False)"
   ]
  },
  {
   "cell_type": "code",
   "execution_count": 24,
   "id": "383c5d12",
   "metadata": {},
   "outputs": [],
   "source": [
    "vgg = VGG16(include_top=False)#include_top=false betshelle l output layers"
   ]
  },
  {
   "cell_type": "code",
   "execution_count": 25,
   "id": "42be331f",
   "metadata": {},
   "outputs": [],
   "source": [
    "#.3 Build instance of Network\n",
    "def build_model(): \n",
    "    input_layer = Input(shape=(120,120,3))\n",
    "    \n",
    "    vgg = VGG16(include_top=False)(input_layer)\n",
    "\n",
    "    # Classification Model  \n",
    "    f1 = GlobalMaxPooling2D()(vgg)\n",
    "    class1 = Dense(2048, activation='relu')(f1)\n",
    "    class2 = Dense(1, activation='sigmoid')(class1)\n",
    "    \n",
    "    # Bounding box model\n",
    "    f2 = GlobalMaxPooling2D()(vgg)\n",
    "    regress1 = Dense(2048, activation='relu')(f2)\n",
    "    regress2 = Dense(4, activation='sigmoid')(regress1)\n",
    "    \n",
    "    facetracker = Model(inputs=input_layer, outputs=[class2, regress2])\n",
    "    return facetracker\n",
    "#eena 2 outputs:\n",
    "#class2:classification laano l outputs ben 0 w 1\n",
    "#regress2: regression laano fi 4 different values(bbox coordinations)"
   ]
  },
  {
   "cell_type": "code",
   "execution_count": 26,
   "id": "43adf258",
   "metadata": {},
   "outputs": [
    {
     "name": "stdout",
     "output_type": "stream",
     "text": [
      "Model: \"model\"\n",
      "__________________________________________________________________________________________________\n",
      " Layer (type)                   Output Shape         Param #     Connected to                     \n",
      "==================================================================================================\n",
      " input_3 (InputLayer)           [(None, 120, 120, 3  0           []                               \n",
      "                                )]                                                                \n",
      "                                                                                                  \n",
      " vgg16 (Functional)             (None, None, None,   14714688    ['input_3[0][0]']                \n",
      "                                512)                                                              \n",
      "                                                                                                  \n",
      " global_max_pooling2d (GlobalMa  (None, 512)         0           ['vgg16[0][0]']                  \n",
      " xPooling2D)                                                                                      \n",
      "                                                                                                  \n",
      " global_max_pooling2d_1 (Global  (None, 512)         0           ['vgg16[0][0]']                  \n",
      " MaxPooling2D)                                                                                    \n",
      "                                                                                                  \n",
      " dense (Dense)                  (None, 2048)         1050624     ['global_max_pooling2d[0][0]']   \n",
      "                                                                                                  \n",
      " dense_2 (Dense)                (None, 2048)         1050624     ['global_max_pooling2d_1[0][0]'] \n",
      "                                                                                                  \n",
      " dense_1 (Dense)                (None, 1)            2049        ['dense[0][0]']                  \n",
      "                                                                                                  \n",
      " dense_3 (Dense)                (None, 4)            8196        ['dense_2[0][0]']                \n",
      "                                                                                                  \n",
      "==================================================================================================\n",
      "Total params: 16,826,181\n",
      "Trainable params: 16,826,181\n",
      "Non-trainable params: 0\n",
      "__________________________________________________________________________________________________\n",
      "1/1 [==============================] - 1s 739ms/step\n"
     ]
    },
    {
     "data": {
      "text/plain": [
       "(array([[0.31700498],\n",
       "        [0.24248233],\n",
       "        [0.27611762],\n",
       "        [0.35282838],\n",
       "        [0.25719446],\n",
       "        [0.20472182],\n",
       "        [0.2361365 ],\n",
       "        [0.3077633 ]], dtype=float32),\n",
       " array([[0.41594627, 0.5133283 , 0.5247258 , 0.49806917],\n",
       "        [0.43558317, 0.45133406, 0.5054938 , 0.608693  ],\n",
       "        [0.38717407, 0.4180362 , 0.5069375 , 0.42432064],\n",
       "        [0.4151641 , 0.471563  , 0.45918798, 0.5460799 ],\n",
       "        [0.492667  , 0.48462307, 0.565306  , 0.48825535],\n",
       "        [0.46879366, 0.47995535, 0.5309688 , 0.5383539 ],\n",
       "        [0.47645652, 0.44332755, 0.69298804, 0.49180666],\n",
       "        [0.4856414 , 0.4543118 , 0.5645068 , 0.5044771 ]], dtype=float32))"
      ]
     },
     "execution_count": 26,
     "metadata": {},
     "output_type": "execute_result"
    }
   ],
   "source": [
    "#8.4 Test out Neural Network\n",
    "facetracker = build_model()\n",
    "facetracker.summary()\n",
    "X, y = train.as_numpy_iterator().next()\n",
    "X.shape\n",
    "classes, coords = facetracker.predict(X)\n",
    "classes, coords"
   ]
  },
  {
   "cell_type": "code",
   "execution_count": 27,
   "id": "613502eb",
   "metadata": {},
   "outputs": [],
   "source": [
    "#9.1 Define Optimizer and LR\n",
    "batches_per_epoch = len(train)\n",
    "lr_decay = (1./0.75 -1)/batches_per_epoch\n",
    "opt = tf.keras.optimizers.Adam(learning_rate=0.0001, decay=lr_decay)"
   ]
  },
  {
   "cell_type": "code",
   "execution_count": 28,
   "id": "f42ace16",
   "metadata": {},
   "outputs": [],
   "source": [
    "#9.2 Create Localization Loss and Classification Loss\n",
    "def localization_loss(y_true, yhat):            \n",
    "    delta_coord = tf.reduce_sum(tf.square(y_true[:,:2] - yhat[:,:2]))\n",
    "                  \n",
    "    h_true = y_true[:,3] - y_true[:,1] #true height of the bbox\n",
    "    w_true = y_true[:,2] - y_true[:,0] #true width of the bbox\n",
    "\n",
    "    h_pred = yhat[:,3] - yhat[:,1] #predicted height of bbox\n",
    "    w_pred = yhat[:,2] - yhat[:,0] #predicted width of bbox\n",
    "    \n",
    "    delta_size = tf.reduce_sum(tf.square(w_true - w_pred) + tf.square(h_true-h_pred))\n",
    "    \n",
    "    return delta_coord + delta_size\n",
    "classloss = tf.keras.losses.BinaryCrossentropy()\n",
    "regressloss = localization_loss"
   ]
  },
  {
   "cell_type": "code",
   "execution_count": 29,
   "id": "48c70bf9",
   "metadata": {},
   "outputs": [
    {
     "data": {
      "text/plain": [
       "<tf.Tensor: shape=(), dtype=float32, numpy=10.083383>"
      ]
     },
     "execution_count": 29,
     "metadata": {},
     "output_type": "execute_result"
    }
   ],
   "source": [
    "#9.3 Test out Loss Metrics\n",
    "localization_loss(y[1], coords)\n",
    "classloss(y[0], classes)\n",
    "regressloss(y[1], coords)"
   ]
  },
  {
   "cell_type": "code",
   "execution_count": 27,
   "id": "eede1d44",
   "metadata": {},
   "outputs": [],
   "source": [
    "#10. Train Neural Network\n",
    "#10.1 Create Custom Model Class"
   ]
  },
  {
   "cell_type": "code",
   "execution_count": 30,
   "id": "c4ce9551",
   "metadata": {},
   "outputs": [],
   "source": [
    "class FaceTracker(Model): \n",
    "    def __init__(self, eyetracker,  **kwargs): \n",
    "        super().__init__(**kwargs)\n",
    "        self.model = eyetracker\n",
    "\n",
    "    def compile(self, opt, classloss, localizationloss, **kwargs):\n",
    "        super().compile(**kwargs)\n",
    "        self.closs = classloss\n",
    "        self.lloss = localizationloss\n",
    "        self.opt = opt\n",
    "    \n",
    "    def train_step(self, batch, **kwargs): \n",
    "        \n",
    "        X, y = batch\n",
    "        \n",
    "        with tf.GradientTape() as tape: \n",
    "            classes, coords = self.model(X, training=True)\n",
    "            \n",
    "            batch_classloss = self.closs(y[0], classes)\n",
    "            batch_localizationloss = self.lloss(tf.cast(y[1], tf.float32), coords)\n",
    "            \n",
    "            total_loss = batch_localizationloss+0.5*batch_classloss\n",
    "            \n",
    "            grad = tape.gradient(total_loss, self.model.trainable_variables)\n",
    "        \n",
    "        opt.apply_gradients(zip(grad, self.model.trainable_variables))\n",
    "        \n",
    "        return {\"total_loss\":total_loss, \"class_loss\":batch_classloss, \"regress_loss\":batch_localizationloss}\n",
    "    \n",
    "    def test_step(self, batch, **kwargs): \n",
    "        X, y = batch\n",
    "        \n",
    "        classes, coords = self.model(X, training=False)\n",
    "        \n",
    "        batch_classloss = self.closs(y[0], classes)\n",
    "        batch_localizationloss = self.lloss(tf.cast(y[1], tf.float32), coords)\n",
    "        total_loss = batch_localizationloss+0.5*batch_classloss\n",
    "        \n",
    "        return {\"total_loss\":total_loss, \"class_loss\":batch_classloss, \"regress_loss\":batch_localizationloss}\n",
    "        \n",
    "    def call(self, X, **kwargs): \n",
    "        return self.model(X, **kwargs)"
   ]
  },
  {
   "cell_type": "code",
   "execution_count": 31,
   "id": "a62ee854",
   "metadata": {},
   "outputs": [],
   "source": [
    "model = FaceTracker(facetracker)\n",
    "model.compile(opt, classloss, regressloss)"
   ]
  },
  {
   "cell_type": "code",
   "execution_count": 30,
   "id": "423610d5",
   "metadata": {},
   "outputs": [
    {
     "name": "stdout",
     "output_type": "stream",
     "text": [
      "Epoch 1/10\n",
      "473/473 [==============================] - 898s 2s/step - total_loss: 0.1892 - class_loss: 0.0028 - regress_loss: 0.1879 - val_total_loss: 0.0640 - val_class_loss: 1.8179e-06 - val_regress_loss: 0.0640\n",
      "Epoch 2/10\n",
      "473/473 [==============================] - 712s 1s/step - total_loss: 0.0411 - class_loss: 3.5656e-06 - regress_loss: 0.0411 - val_total_loss: 0.1354 - val_class_loss: 4.5449e-06 - val_regress_loss: 0.1354\n",
      "Epoch 3/10\n",
      "473/473 [==============================] - 722s 2s/step - total_loss: 0.0230 - class_loss: 1.1856e-06 - regress_loss: 0.0230 - val_total_loss: 0.0657 - val_class_loss: 2.2352e-07 - val_regress_loss: 0.0657\n",
      "Epoch 4/10\n",
      "473/473 [==============================] - 718s 2s/step - total_loss: 0.0162 - class_loss: 6.2755e-07 - regress_loss: 0.0162 - val_total_loss: 0.0350 - val_class_loss: 3.4273e-07 - val_regress_loss: 0.0350\n",
      "Epoch 5/10\n",
      "473/473 [==============================] - 730s 2s/step - total_loss: 0.0111 - class_loss: 2.9716e-07 - regress_loss: 0.0111 - val_total_loss: 0.0977 - val_class_loss: 2.0862e-07 - val_regress_loss: 0.0977\n",
      "Epoch 6/10\n",
      "473/473 [==============================] - 695s 1s/step - total_loss: 0.0082 - class_loss: 1.7084e-07 - regress_loss: 0.0082 - val_total_loss: 0.0414 - val_class_loss: 1.4901e-08 - val_regress_loss: 0.0414\n",
      "Epoch 7/10\n",
      "473/473 [==============================] - 716s 2s/step - total_loss: 0.0072 - class_loss: 1.4167e-07 - regress_loss: 0.0072 - val_total_loss: 0.0223 - val_class_loss: 2.0862e-07 - val_regress_loss: 0.0223\n",
      "Epoch 8/10\n",
      "473/473 [==============================] - 963s 2s/step - total_loss: 0.0060 - class_loss: 1.1215e-07 - regress_loss: 0.0060 - val_total_loss: 0.0368 - val_class_loss: 8.9407e-08 - val_regress_loss: 0.0368\n",
      "Epoch 9/10\n",
      "473/473 [==============================] - 951s 2s/step - total_loss: 0.0052 - class_loss: 9.1278e-08 - regress_loss: 0.0052 - val_total_loss: 0.0370 - val_class_loss: 2.9802e-08 - val_regress_loss: 0.0370\n",
      "Epoch 10/10\n",
      "473/473 [==============================] - 952s 2s/step - total_loss: 0.0045 - class_loss: 7.8656e-08 - regress_loss: 0.0045 - val_total_loss: 0.0363 - val_class_loss: 0.0000e+00 - val_regress_loss: 0.0363\n"
     ]
    }
   ],
   "source": [
    "#10.2 Train\n",
    "logdir='logs'\n",
    "tensorboard_callback = tf.keras.callbacks.TensorBoard(log_dir=logdir)\n",
    "hist = model.fit(train, epochs=10, validation_data=val, callbacks=[tensorboard_callback])\n"
   ]
  },
  {
   "cell_type": "code",
   "execution_count": null,
   "id": "235304a5",
   "metadata": {},
   "outputs": [],
   "source": [
    "#10.3 Plot Performance\n",
    "hist.history\n",
    "fig, ax = plt.subplots(ncols=3, figsize=(20,5))\n",
    "\n",
    "ax[0].plot(hist.history['total_loss'], color='teal', label='loss')\n",
    "ax[0].plot(hist.history['val_total_loss'], color='orange', label='val loss')\n",
    "ax[0].title.set_text('Loss')\n",
    "ax[0].legend()\n",
    "\n",
    "ax[1].plot(hist.history['class_loss'], color='teal', label='class loss')\n",
    "ax[1].plot(hist.history['val_class_loss'], color='orange', label='val class loss')\n",
    "ax[1].title.set_text('Classification Loss')\n",
    "ax[1].legend()\n",
    "\n",
    "ax[2].plot(hist.history['regress_loss'], color='teal', label='regress loss')\n",
    "ax[2].plot(hist.history['val_regress_loss'], color='orange', label='val regress loss')\n",
    "ax[2].title.set_text('Regression Loss')\n",
    "ax[2].legend()\n",
    "\n",
    "plt.show()"
   ]
  },
  {
   "cell_type": "code",
   "execution_count": null,
   "id": "1f717c00",
   "metadata": {},
   "outputs": [
    {
     "name": "stdout",
     "output_type": "stream",
     "text": [
      "1/1 [==============================] - 0s 336ms/step\n"
     ]
    }
   ],
   "source": [
    "#11. Make Predictions\n",
    "#11.1 Make Predictions on Test Set\n",
    "test_data = test.as_numpy_iterator()\n",
    "test_sample = test_data.next()\n",
    "yhat = facetracker.predict(test_sample[0])\n",
    "fig, ax = plt.subplots(ncols=4, figsize=(20,20))\n",
    "for idx in range(4): \n",
    "    sample_image = test_sample[0][idx]\n",
    "    sample_coords = yhat[1][idx]\n",
    "    \n",
    "    if yhat[0][idx] > 0.9:\n",
    "        cv2.rectangle(sample_image, \n",
    "                      tuple(np.multiply(sample_coords[:2], [120,120]).astype(int)),\n",
    "                      tuple(np.multiply(sample_coords[2:], [120,120]).astype(int)), \n",
    "                            (255,0,0), 2)\n",
    "    \n",
    "    ax[idx].imshow(sample_image)"
   ]
  },
  {
   "cell_type": "code",
   "execution_count": 30,
   "id": "6adf29da",
   "metadata": {},
   "outputs": [
    {
     "name": "stdout",
     "output_type": "stream",
     "text": [
      "WARNING:tensorflow:Compiled the loaded model, but the compiled metrics have yet to be built. `model.compile_metrics` will be empty until you train or evaluate the model.\n",
      "WARNING:tensorflow:No training configuration found in the save file, so the model was *not* compiled. Compile it manually.\n"
     ]
    }
   ],
   "source": [
    "#11.2 Save the Model\n",
    "from tensorflow.keras.models import load_model\n",
    "facetracker.save('facetracker.h5')\n",
    "facetracker = load_model('facetracker.h5')\n"
   ]
  },
  {
   "cell_type": "code",
   "execution_count": 31,
   "id": "eac3b863",
   "metadata": {},
   "outputs": [
    {
     "name": "stdout",
     "output_type": "stream",
     "text": [
      "1/1 [==============================] - 0s 427ms/step\n",
      "1/1 [==============================] - 0s 128ms/step\n",
      "1/1 [==============================] - 0s 144ms/step\n",
      "1/1 [==============================] - 0s 141ms/step\n",
      "1/1 [==============================] - 0s 111ms/step\n",
      "1/1 [==============================] - 0s 94ms/step\n",
      "1/1 [==============================] - 0s 110ms/step\n",
      "1/1 [==============================] - 0s 78ms/step\n",
      "1/1 [==============================] - 0s 79ms/step\n",
      "1/1 [==============================] - 0s 79ms/step\n",
      "1/1 [==============================] - 0s 94ms/step\n",
      "1/1 [==============================] - 0s 110ms/step\n",
      "1/1 [==============================] - 0s 84ms/step\n",
      "1/1 [==============================] - 0s 110ms/step\n",
      "1/1 [==============================] - 0s 79ms/step\n",
      "1/1 [==============================] - 0s 96ms/step\n",
      "1/1 [==============================] - 0s 94ms/step\n",
      "1/1 [==============================] - 0s 111ms/step\n",
      "1/1 [==============================] - 0s 79ms/step\n",
      "1/1 [==============================] - 0s 93ms/step\n",
      "1/1 [==============================] - 0s 110ms/step\n",
      "1/1 [==============================] - 0s 98ms/step\n",
      "1/1 [==============================] - 0s 110ms/step\n"
     ]
    }
   ],
   "source": [
    "\n",
    "#11.3 Real Time Detection\n",
    "cap = cv2.VideoCapture(0)\n",
    "while cap.isOpened():\n",
    "    _ , frame = cap.read()\n",
    "    frame = frame[50:500, 50:500,:]\n",
    "    \n",
    "    rgb = cv2.cvtColor(frame, cv2.COLOR_BGR2RGB)\n",
    "    resized = tf.image.resize(rgb, (120,120))\n",
    "    \n",
    "    yhat = facetracker.predict(np.expand_dims(resized/255,0))\n",
    "    sample_coords = yhat[1][0]\n",
    "    \n",
    "    if yhat[0] > 0.5: \n",
    "        # Controls the main rectangle\n",
    "        cv2.rectangle(frame, \n",
    "                      tuple(np.multiply(sample_coords[:2], [450,450]).astype(int)),\n",
    "                      tuple(np.multiply(sample_coords[2:], [450,450]).astype(int)), \n",
    "                            (255,0,0), 2)\n",
    "        # Controls the label rectangle\n",
    "        cv2.rectangle(frame, \n",
    "                      tuple(np.add(np.multiply(sample_coords[:2], [450,450]).astype(int), \n",
    "                                    [0,-30])),\n",
    "                      tuple(np.add(np.multiply(sample_coords[:2], [450,450]).astype(int),\n",
    "                                    [80,0])), \n",
    "                            (255,0,0), -1)\n",
    "        \n",
    "        # Controls the text rendered\n",
    "        cv2.putText(frame, 'face', tuple(np.add(np.multiply(sample_coords[:2], [450,450]).astype(int),\n",
    "                                               [0,-5])),\n",
    "                    cv2.FONT_HERSHEY_SIMPLEX, 1, (255,255,255), 2, cv2.LINE_AA)\n",
    "    \n",
    "    cv2.imshow('EyeTrack', frame)\n",
    "    \n",
    "    if cv2.waitKey(1) & 0xFF == ord('q'):\n",
    "        break\n",
    "cap.release()\n",
    "cv2.destroyAllWindows()"
   ]
  },
  {
   "cell_type": "code",
   "execution_count": null,
   "id": "9e4f7539",
   "metadata": {},
   "outputs": [],
   "source": []
  }
 ],
 "metadata": {
  "kernelspec": {
   "display_name": "Python 3 (ipykernel)",
   "language": "python",
   "name": "python3"
  },
  "language_info": {
   "codemirror_mode": {
    "name": "ipython",
    "version": 3
   },
   "file_extension": ".py",
   "mimetype": "text/x-python",
   "name": "python",
   "nbconvert_exporter": "python",
   "pygments_lexer": "ipython3",
   "version": "3.9.13"
  }
 },
 "nbformat": 4,
 "nbformat_minor": 5
}
